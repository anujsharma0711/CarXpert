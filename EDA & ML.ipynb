{
 "cells": [
  {
   "cell_type": "code",
   "execution_count": null,
   "id": "28550bca-1b7e-44d2-a5e6-eb9aa3d2065e",
   "metadata": {},
   "outputs": [],
   "source": [
    "import pandas as pd\n",
    "import numpy as np"
   ]
  },
  {
   "cell_type": "code",
   "execution_count": null,
   "id": "f285da96-d189-4374-94e2-719967b43b2f",
   "metadata": {},
   "outputs": [],
   "source": [
    "df = pd.read_csv('data/car_details.csv')"
   ]
  },
  {
   "cell_type": "code",
   "execution_count": null,
   "id": "7e2e1f89-417d-4c2b-a97d-f6d50cea13d2",
   "metadata": {},
   "outputs": [],
   "source": [
    "df.describe()"
   ]
  },
  {
   "cell_type": "markdown",
   "id": "72d6d187-ccec-4bed-a653-bce4de3b2502",
   "metadata": {},
   "source": [
    "# Data Cleaning"
   ]
  },
  {
   "cell_type": "code",
   "execution_count": null,
   "id": "6bc42cab",
   "metadata": {},
   "outputs": [],
   "source": [
    "df.duplicated()\n",
    "df.duplicated().sum()"
   ]
  },
  {
   "cell_type": "code",
   "execution_count": null,
   "id": "640b224a-5dde-4e67-8d48-e9dfa325e0fa",
   "metadata": {},
   "outputs": [],
   "source": [
    "df.dropna(subset=[\"Engine\", \"Max Power\", \"Max Torque\", \"Drivetrain\", \"Seating Capacity\", \"Fuel Tank Capacity\"], inplace = True)"
   ]
  },
  {
   "cell_type": "code",
   "execution_count": null,
   "id": "f23bdfa6-bb2b-41e3-a503-2db44bb38c87",
   "metadata": {},
   "outputs": [],
   "source": [
    "df.isna().sum()"
   ]
  },
  {
   "cell_type": "code",
   "execution_count": null,
   "id": "e69d910d-4b07-4c52-9387-dd1d4def5afb",
   "metadata": {},
   "outputs": [],
   "source": [
    "import re\n",
    "\n",
    "def extract_base_model(model_str):\n",
    "    model_str = re.sub(r'\\[.*?\\]', '', model_str)\n",
    "    model_str = model_str.strip()\n",
    "    words = model_str.split()\n",
    "    return ' '.join(words[:2]) if len(words) >= 2 else words[0]\n",
    "\n",
    "df['Base Model'] = df['Model'].apply(extract_base_model)\n",
    "df['Base Model'] = df['Base Model'].str.title().str.strip()\n",
    "df.drop(\"Model\",axis=1)"
   ]
  },
  {
   "cell_type": "markdown",
   "id": "7cd36e55-930d-4b66-98d4-5b77e51ba665",
   "metadata": {},
   "source": [
    "# FEATURE CREATION"
   ]
  },
  {
   "cell_type": "code",
   "execution_count": null,
   "id": "52f11b48",
   "metadata": {},
   "outputs": [],
   "source": [
    "df[\"Base Model\"]"
   ]
  },
  {
   "cell_type": "code",
   "execution_count": null,
   "id": "a785e3d9-165a-4c9c-ad1b-d31ce9fe66c3",
   "metadata": {},
   "outputs": [],
   "source": [
    "df['Car Age']=2025 - df['Year']"
   ]
  },
  {
   "cell_type": "code",
   "execution_count": null,
   "id": "1fb31a2a-105c-46fd-b81c-22e8048e4b85",
   "metadata": {},
   "outputs": [],
   "source": [
    "def age_segment(Age):\n",
    "    if 0 <= Age <= 6:\n",
    "        return 'New'\n",
    "    elif 7 <= Age <= 11:\n",
    "        return 'Mid-Age'\n",
    "    elif 12 <= Age <= 16:\n",
    "        return 'Old'\n",
    "    else:\n",
    "        return 'Not for Re-Sale'\n",
    "\n",
    "df['Age Segment'] = df['Car Age'].apply(age_segment)"
   ]
  },
  {
   "cell_type": "code",
   "execution_count": null,
   "id": "93e7fd6b-c580-4b4d-a904-519f90ea9b65",
   "metadata": {},
   "outputs": [],
   "source": [
    "def price_segment(price):\n",
    "    if price < 100000:\n",
    "        return 'Very Low'\n",
    "    elif 100000 <= price <= 5000000:\n",
    "        return 'Low to Mid Range'\n",
    "    elif 5100000 <= price <= 10000000:\n",
    "        return 'High Range'\n",
    "    else:\n",
    "        return 'Luxury'\n",
    "\n",
    "df['Price Segment'] = df['Price'].apply(price_segment)\n",
    "\n",
    "print(df['Price Segment'].value_counts())"
   ]
  },
  {
   "cell_type": "code",
   "execution_count": null,
   "id": "7d453cab-60f5-44c8-8eee-17bfeba0a1fb",
   "metadata": {},
   "outputs": [],
   "source": [
    "df[df['Owner'] == 'UnRegistered Car'].index"
   ]
  },
  {
   "cell_type": "code",
   "execution_count": null,
   "id": "e94f0920",
   "metadata": {},
   "outputs": [],
   "source": [
    "df[\"Owner\"].value_counts()"
   ]
  },
  {
   "cell_type": "code",
   "execution_count": null,
   "id": "60f3bfee-0e6b-4f30-831c-276a773f0167",
   "metadata": {},
   "outputs": [],
   "source": [
    "df.rename(columns={\"Make\":\"Company\"},inplace=True)"
   ]
  },
  {
   "cell_type": "code",
   "execution_count": null,
   "id": "f8adbf96-d54e-4c94-a7eb-a1ffeb5460de",
   "metadata": {},
   "outputs": [],
   "source": [
    "df"
   ]
  },
  {
   "cell_type": "code",
   "execution_count": null,
   "id": "44ae25e9-3cd9-4c44-be58-09215741fdd1",
   "metadata": {},
   "outputs": [],
   "source": [
    "df.info()"
   ]
  },
  {
   "cell_type": "code",
   "execution_count": null,
   "id": "ac6b2be7-7780-4f61-a5a5-6fe7337ffea8",
   "metadata": {},
   "outputs": [],
   "source": [
    "df['Fuel Type'] = df['Fuel Type'].replace({\n",
    "    'CNG + CNG': 'CNG',\n",
    "    'Petrol + CNG': 'Petrol+CNG'\n",
    "})"
   ]
  },
  {
   "cell_type": "code",
   "execution_count": null,
   "id": "72290b81-6aad-47a6-a94a-80071019a31b",
   "metadata": {},
   "outputs": [],
   "source": [
    "df['Fuel Type'].value_counts()"
   ]
  },
  {
   "cell_type": "code",
   "execution_count": null,
   "id": "e57e8f3a-148b-4692-a569-9fadd59c0624",
   "metadata": {},
   "outputs": [],
   "source": [
    "df['Engine CC']=df['Engine'].str.split().str[0].astype(int)\n",
    "df.drop('Engine',axis=1,inplace=True)"
   ]
  },
  {
   "cell_type": "code",
   "execution_count": null,
   "id": "7458d658-c08e-48d8-a645-7b6c0df8e01b",
   "metadata": {},
   "outputs": [],
   "source": [
    "df['max_power_cleaned'] = df['Max Power'].str.extract(r'(\\d+\\.?\\d*)')\n",
    "df['max_power_cleaned'] = pd.to_numeric(df['max_power_cleaned'], errors='coerce')\n",
    "\n",
    "df['torque_value'] = df['Max Torque'].str.extract(r'(\\d+\\.?\\d*)')\n",
    "df['is_kgm'] = df['Max Torque'].str.contains('kgm', case=False, na=False)\n",
    "df['torque_value'] = pd.to_numeric(df['torque_value'], errors='coerce')\n",
    "df['torque_value'] = np.where(df['is_kgm'], df['torque_value'] * 9.8, df['torque_value'])\n",
    "df['Max Torque'] = df['torque_value']\n",
    "df.drop(columns=['torque_value', 'is_kgm'], inplace=True)\n",
    "\n",
    "\n",
    "df = df.drop(columns=['Max Power'])\n",
    "df.rename(columns={\n",
    "   'max_power_cleaned': 'Max Power',\n",
    "    'torque_nm': 'Max Torque'\n",
    "    },inplace=True)"
   ]
  },
  {
   "cell_type": "code",
   "execution_count": null,
   "id": "24c18221-6045-4f87-bfb7-ff3c02c716fd",
   "metadata": {},
   "outputs": [],
   "source": [
    "df.drop(\"Year\",axis=1)"
   ]
  },
  {
   "cell_type": "markdown",
   "id": "866aecca",
   "metadata": {},
   "source": [
    "# OUTLIER REMOVAL"
   ]
  },
  {
   "cell_type": "code",
   "execution_count": null,
   "id": "50fa4f7b-7fa2-41d8-bec4-7069ef83c1d5",
   "metadata": {},
   "outputs": [],
   "source": [
    "df[\"Car Age\"].unique()"
   ]
  },
  {
   "cell_type": "code",
   "execution_count": null,
   "id": "26c59ada-be09-44cb-ae97-534240f5518c",
   "metadata": {},
   "outputs": [],
   "source": [
    "df.drop(df[df[\"Car Age\"]==37].index,inplace=True)"
   ]
  },
  {
   "cell_type": "code",
   "execution_count": null,
   "id": "c83684ba-353e-4e34-ad80-f5cc5f806318",
   "metadata": {},
   "outputs": [],
   "source": [
    "df[\"Car Age\"].unique()"
   ]
  },
  {
   "cell_type": "markdown",
   "id": "1e7ce0a8-dec8-48ee-aff9-da3dff5d05ef",
   "metadata": {},
   "source": [
    "# ENCODING\n"
   ]
  },
  {
   "cell_type": "code",
   "execution_count": null,
   "id": "b05ff9fc-fa3f-44bf-afdb-50cd0e028260",
   "metadata": {},
   "outputs": [],
   "source": [
    "df.isna().sum()"
   ]
  },
  {
   "cell_type": "code",
   "execution_count": null,
   "id": "4fbfa8a0-fb42-4845-b398-7d17d6d782f7",
   "metadata": {},
   "outputs": [],
   "source": [
    "owner_map = {\n",
    "    'First': 1,\n",
    "    'Second': 2,\n",
    "    'Third': 3\n",
    "}\n",
    "df['Owner'] = df['Owner'].map(owner_map)\n",
    "\n",
    "trans_map = {\n",
    "    'Manual': 1,\n",
    "    'Automatic': 2\n",
    "}\n",
    "df['Transmission'] = df['Transmission'].map(trans_map)\n",
    "\n",
    "fuel_dummies = pd.get_dummies(df['Fuel Type'], prefix='Fuel', drop_first=True, dtype=int)\n",
    "df = pd.concat([df.drop('Fuel Type', axis=1), fuel_dummies], axis=1)"
   ]
  },
  {
   "cell_type": "code",
   "execution_count": null,
   "id": "cb74978c-0c99-4abe-bdc8-e24e3919c077",
   "metadata": {},
   "outputs": [],
   "source": [
    "df"
   ]
  },
  {
   "cell_type": "code",
   "execution_count": null,
   "id": "cddb1606-cd91-4c0d-9421-dc3c416d774b",
   "metadata": {},
   "outputs": [],
   "source": [
    "df.reset_index(drop=True, inplace=True)"
   ]
  },
  {
   "cell_type": "code",
   "execution_count": null,
   "id": "ae14f28d-cbbe-4601-826b-1297c794e3d7",
   "metadata": {},
   "outputs": [],
   "source": [
    "df.to_csv(\"data/cleaned_cars.csv\")"
   ]
  },
  {
   "cell_type": "code",
   "execution_count": null,
   "id": "70ebb8fc-5970-4827-a589-7174280792fe",
   "metadata": {},
   "outputs": [],
   "source": [
    "df.columns"
   ]
  },
  {
   "cell_type": "markdown",
   "id": "0f6baf2d-3641-47d7-9589-302b6387e6a8",
   "metadata": {},
   "source": [
    "# PRICE PREDICTION"
   ]
  },
  {
   "cell_type": "code",
   "execution_count": null,
   "id": "1335cfe2-9cb4-4bff-9daf-3623d4eade2b",
   "metadata": {},
   "outputs": [],
   "source": [
    "from sklearn.model_selection import train_test_split\n",
    "from sklearn.ensemble import RandomForestRegressor\n",
    "from sklearn.metrics import r2_score, mean_absolute_error, mean_squared_error\n",
    "\n",
    "# Features and Target\n",
    "features = [\n",
    "    'Kilometer', 'Fuel_Diesel', 'Fuel_Hybrid', 'Fuel_LPG', 'Fuel_Petrol', 'Fuel_Petrol+CNG',\n",
    "    'Transmission', 'Owner', 'Seating Capacity', 'Engine CC', 'Max Power', 'Car Age', 'Fuel Tank Capacity'\n",
    "]\n",
    "X = df[features]\n",
    "y = np.log1p(df['Price'])  # log transform the target\n",
    "\n",
    "# Train-test split\n",
    "X_train, X_test, y_train, y_test = train_test_split(X, y, test_size=0.2, random_state=42)\n",
    "\n",
    "# Final Random Forest model with best params\n",
    "model = RandomForestRegressor(\n",
    "    n_estimators=158,\n",
    "    max_depth=15,\n",
    "    min_samples_split=4,\n",
    "    min_samples_leaf=1,\n",
    "    max_features='sqrt',\n",
    "    random_state=42\n",
    ")\n",
    "\n",
    "# Fit model\n",
    "model.fit(X_train, y_train)\n",
    "\n",
    "# Predict and Evaluate\n",
    "y_pred = model.predict(X_test)\n",
    "\n",
    "print(\"MAE:\", round(mean_absolute_error(y_test, y_pred), 3))\n",
    "print(\"MSE:\", round(mean_squared_error(y_test, y_pred), 3))\n",
    "print(\"RMSE:\", round(np.sqrt(mean_squared_error(y_test, y_pred)), 3))\n",
    "print(\"R² Score:\", round(r2_score(y_test, y_pred), 3))"
   ]
  },
  {
   "cell_type": "code",
   "execution_count": null,
   "id": "3e6e3082-b8f4-4be8-8c94-ecaf1a5d68e6",
   "metadata": {},
   "outputs": [],
   "source": [
    "import joblib\n",
    "\n",
    "joblib.dump(model, 'model/car_price_model.pkl')"
   ]
  }
 ],
 "metadata": {
  "kernelspec": {
   "display_name": "Python 3 (ipykernel)",
   "language": "python",
   "name": "python3"
  },
  "language_info": {
   "codemirror_mode": {
    "name": "ipython",
    "version": 3
   },
   "file_extension": ".py",
   "mimetype": "text/x-python",
   "name": "python",
   "nbconvert_exporter": "python",
   "pygments_lexer": "ipython3",
   "version": "3.13.0"
  }
 },
 "nbformat": 4,
 "nbformat_minor": 5
}
